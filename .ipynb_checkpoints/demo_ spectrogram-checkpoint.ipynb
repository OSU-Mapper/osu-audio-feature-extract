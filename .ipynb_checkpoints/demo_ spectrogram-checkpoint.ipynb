{
 "cells": [
  {
   "cell_type": "code",
   "execution_count": 1,
   "metadata": {
    "collapsed": true
   },
   "outputs": [],
   "source": [
    "#! /usr/bin/env python\n",
    "\n",
    "import sys, os.path\n",
    "from aubio import pvoc, source, float_type\n",
    "from numpy import zeros, log10, vstack\n",
    "import matplotlib.pyplot as plt\n",
    "\n"
   ]
  },
  {
   "cell_type": "code",
   "execution_count": 4,
   "metadata": {
    "collapsed": true
   },
   "outputs": [],
   "source": [
    "def get_spectrogram(filename, samplerate = 0):\n",
    "    win_s = 512                                        # fft window size\n",
    "    hop_s = win_s // 2                                 # hop size\n",
    "    fft_s = win_s // 2 + 1                             # spectrum bins\n",
    "\n",
    "    a = source(filename, samplerate, hop_s)            # source file\n",
    "    if samplerate == 0: samplerate = a.samplerate\n",
    "    pv = pvoc(win_s, hop_s)                            # phase vocoder\n",
    "    specgram = zeros([0, fft_s], dtype=float_type)     # numpy array to store spectrogram\n",
    "\n",
    "    # analysis\n",
    "    while True:\n",
    "        samples, read = a()                              # read file\n",
    "        specgram = vstack((specgram,pv(samples).norm))   # store new norm vector\n",
    "        if read < a.hop_size: break\n",
    "\n",
    "    # plotting\n",
    "    fig = plt.imshow(log10(specgram.T + .001), origin = 'bottom', aspect = 'auto', cmap=plt.cm.gray_r)\n",
    "    ax = fig.axes\n",
    "    ax.axis([0, len(specgram), 0, len(specgram[0])])\n",
    "    # show axes in Hz and seconds\n",
    "    time_step = hop_s / float(samplerate)\n",
    "    total_time = len(specgram) * time_step\n",
    "    outstr = \"total time: %0.2fs\" % total_time\n",
    "    print(outstr + \", samplerate: %.2fkHz\" % (samplerate / 1000.))\n",
    "    n_xticks = 10\n",
    "    n_yticks = 10\n",
    "\n",
    "    def get_rounded_ticks( top_pos, step, n_ticks ):\n",
    "        top_label = top_pos * step\n",
    "        # get the first label\n",
    "        ticks_first_label = top_pos * step / n_ticks\n",
    "        # round to the closest .1\n",
    "        ticks_first_label = round ( ticks_first_label * 10. ) / 10.\n",
    "        # compute all labels from the first rounded one\n",
    "        ticks_labels = [ ticks_first_label * n for n in range(n_ticks) ] + [ top_label ]\n",
    "        # get the corresponding positions\n",
    "        ticks_positions = [ ticks_labels[n] / step for n in range(n_ticks) ] + [ top_pos ]\n",
    "        # convert to string\n",
    "        ticks_labels = [  \"%.1f\" % x for x in ticks_labels ]\n",
    "        # return position, label tuple to use with x/yticks\n",
    "        return ticks_positions, ticks_labels\n",
    "  \n",
    "    # apply to the axis\n",
    "    x_ticks, x_labels = get_rounded_ticks ( len(specgram), time_step, n_xticks )\n",
    "    y_ticks, y_labels = get_rounded_ticks ( len(specgram[0]), (samplerate / 1000. / 2.) / len(specgram[0]), n_yticks )\n",
    "    ax.set_xticks( x_ticks )\n",
    "    ax.set_yticks ( y_ticks )\n",
    "    ax.set_xticklabels( x_labels )\n",
    "    ax.set_yticklabels ( y_labels )\n",
    "    ax.set_ylabel('Frequency (kHz)')\n",
    "    ax.set_xlabel('Time (s)')\n",
    "    ax.set_title(os.path.basename(filename))\n",
    "    for item in ([ax.title, ax.xaxis.label, ax.yaxis.label] +\n",
    "            ax.get_xticklabels() + ax.get_yticklabels()):\n",
    "        item.set_fontsize('x-small')\n",
    "    return fig\n",
    "\n"
   ]
  },
  {
   "cell_type": "code",
   "execution_count": null,
   "metadata": {
    "collapsed": false
   },
   "outputs": [],
   "source": [
    "fig = get_spectrogram(\"Data/test.wav\")"
   ]
  },
  {
   "cell_type": "code",
   "execution_count": 5,
   "metadata": {
    "collapsed": false
   },
   "outputs": [
    {
     "data": {
      "text/plain": [
       "<matplotlib.figure.Figure at 0x1089d7390>"
      ]
     },
     "execution_count": 5,
     "metadata": {},
     "output_type": "execute_result"
    }
   ],
   "source": [
    "%config InlineBackend.figure_format='retina'\n",
    "width = 12\n",
    "height = 12\n",
    "plt.figure(figsize=(width, height))"
   ]
  },
  {
   "cell_type": "code",
   "execution_count": null,
   "metadata": {
    "collapsed": true
   },
   "outputs": [],
   "source": [
    "plt.figure(figsize=(width, height))\n",
    "# display graph\n",
    "plt.show()\n",
    "#outimage = os.path.basename(soundfile) + '.png'\n",
    "#print (\"writing: \" + outimage)\n",
    "#plt.savefig(outimage)\n",
    "plt.close()"
   ]
  }
 ],
 "metadata": {
  "kernelspec": {
   "display_name": "Python 3",
   "language": "python",
   "name": "python3"
  },
  "language_info": {
   "codemirror_mode": {
    "name": "ipython",
    "version": 3
   },
   "file_extension": ".py",
   "mimetype": "text/x-python",
   "name": "python",
   "nbconvert_exporter": "python",
   "pygments_lexer": "ipython3",
   "version": "3.6.0"
  }
 },
 "nbformat": 4,
 "nbformat_minor": 2
}
