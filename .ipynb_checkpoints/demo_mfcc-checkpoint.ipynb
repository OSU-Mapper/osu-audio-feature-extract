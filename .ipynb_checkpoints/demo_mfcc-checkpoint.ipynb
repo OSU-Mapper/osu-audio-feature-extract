{
 "cells": [
  {
   "cell_type": "code",
   "execution_count": 1,
   "metadata": {
    "collapsed": true
   },
   "outputs": [],
   "source": [
    "#! /usr/bin/env python\n",
    "\n",
    "import sys\n",
    "from aubio import source, pvoc, mfcc\n",
    "from numpy import vstack, zeros, diff"
   ]
  },
  {
   "cell_type": "code",
   "execution_count": 2,
   "metadata": {
    "collapsed": true
   },
   "outputs": [],
   "source": [
    "n_filters = 40              # must be 40 for mfcc\n",
    "n_coeffs = 13\n",
    "\n",
    "# if len(sys.argv) < 2:\n",
    "#     print(\"Usage: %s <source_filename> [samplerate] [win_s] [hop_s] [mode]\" % sys.argv[0])\n",
    "#     print(\"  where [mode] can be 'delta' or 'ddelta' for first and second derivatives\")\n",
    "#     sys.exit(1)"
   ]
  },
  {
   "cell_type": "code",
   "execution_count": 5,
   "metadata": {
    "collapsed": false
   },
   "outputs": [
    {
     "name": "stdout",
     "output_type": "stream",
     "text": [
      "['/Users/willian/anaconda3/lib/python3.6/site-packages/ipykernel/__main__.py', '-f', '/Users/willian/Library/Jupyter/runtime/kernel-e650e170-b8e6-4065-8f79-270535398dc0.json']\n"
     ]
    }
   ],
   "source": [
    "print(sys.argv)"
   ]
  },
  {
   "cell_type": "code",
   "execution_count": 6,
   "metadata": {
    "collapsed": true
   },
   "outputs": [],
   "source": [
    "source_filename = \"Data/test.wav\"\n",
    "\n",
    "samplerate = 0\n",
    "win_s = 512\n",
    "hop_s = win_s // 4\n",
    "mode = \"default\""
   ]
  },
  {
   "cell_type": "code",
   "execution_count": 8,
   "metadata": {
    "collapsed": false
   },
   "outputs": [],
   "source": [
    "s = source(source_filename, samplerate, hop_s)\n",
    "samplerate = s.samplerate\n",
    "p = pvoc(win_s, hop_s)\n",
    "m = mfcc(win_s, n_filters, n_coeffs, samplerate)\n",
    "\n",
    "mfccs = zeros([n_coeffs,])\n",
    "frames_read = 0\n",
    "while True:\n",
    "    samples, read = s()\n",
    "    spec = p(samples)\n",
    "    mfcc_out = m(spec)\n",
    "    mfccs = vstack((mfccs, mfcc_out))\n",
    "    frames_read += read\n",
    "    if read < hop_s: break\n"
   ]
  },
  {
   "cell_type": "code",
   "execution_count": 13,
   "metadata": {
    "collapsed": false
   },
   "outputs": [
    {
     "ename": "SyntaxError",
     "evalue": "invalid syntax (<ipython-input-13-e7b3d648caa3>, line 3)",
     "output_type": "error",
     "traceback": [
      "\u001b[0;36m  File \u001b[0;32m\"<ipython-input-13-e7b3d648caa3>\"\u001b[0;36m, line \u001b[0;32m3\u001b[0m\n\u001b[0;31m    from \"./aubio-demos/demo_waveform_plot\" import get_waveform_plot\u001b[0m\n\u001b[0m                                          ^\u001b[0m\n\u001b[0;31mSyntaxError\u001b[0m\u001b[0;31m:\u001b[0m invalid syntax\n"
     ]
    }
   ],
   "source": [
    "# do plotting\n",
    "from numpy import arange\n",
    "from ./aubio-demos/demo_waveform_plot import get_waveform_plot\n",
    "from ./aubio-demos/demo_waveform_plot import set_xlabels_sample2time\n",
    "import matplotlib.pyplot as plt\n",
    "\n",
    "fig = plt.figure()\n",
    "plt.rc('lines',linewidth='.8')\n",
    "wave = plt.axes([0.1, 0.75, 0.8, 0.19])\n",
    "\n",
    "get_waveform_plot( source_filename, samplerate, block_size = hop_s, ax = wave)\n",
    "wave.xaxis.set_visible(False)\n",
    "wave.yaxis.set_visible(False)\n",
    "\n",
    "# compute first and second derivatives\n",
    "if mode in [\"delta\", \"ddelta\"]:\n",
    "    mfccs = diff(mfccs, axis = 0)\n",
    "if mode == \"ddelta\":\n",
    "    mfccs = diff(mfccs, axis = 0)\n",
    "\n",
    "all_times = arange(mfccs.shape[0]) * hop_s\n",
    "n_coeffs = mfccs.shape[1]\n",
    "for i in range(n_coeffs):\n",
    "    ax = plt.axes ( [0.1, 0.75 - ((i+1) * 0.65 / n_coeffs),  0.8, 0.65 / n_coeffs], sharex = wave )\n",
    "    ax.xaxis.set_visible(False)\n",
    "    ax.set_yticks([])\n",
    "    ax.set_ylabel('%d' % i)\n",
    "    ax.plot(all_times, mfccs.T[i])\n",
    "\n",
    "# add time to the last axis\n",
    "set_xlabels_sample2time( ax, frames_read, samplerate)\n",
    "\n",
    "#plt.ylabel('spectral descriptor value')\n",
    "ax.xaxis.set_visible(True)\n",
    "title = 'MFCC for %s' % source_filename\n",
    "if mode == \"delta\": title = mode + \" \" + title\n",
    "elif mode == \"ddelta\": title = \"double-delta\" + \" \" + title\n",
    "wave.set_title(title)\n",
    "plt.show()"
   ]
  },
  {
   "cell_type": "code",
   "execution_count": null,
   "metadata": {
    "collapsed": true
   },
   "outputs": [],
   "source": []
  }
 ],
 "metadata": {
  "kernelspec": {
   "display_name": "Python 3",
   "language": "python",
   "name": "python3"
  },
  "language_info": {
   "codemirror_mode": {
    "name": "ipython",
    "version": 3
   },
   "file_extension": ".py",
   "mimetype": "text/x-python",
   "name": "python",
   "nbconvert_exporter": "python",
   "pygments_lexer": "ipython3",
   "version": "3.6.0"
  }
 },
 "nbformat": 4,
 "nbformat_minor": 2
}
